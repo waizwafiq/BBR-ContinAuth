{
  "nbformat": 4,
  "nbformat_minor": 0,
  "metadata": {
    "colab": {
      "name": "train_BBR.ipynb",
      "provenance": [],
      "collapsed_sections": [],
      "toc_visible": true,
      "authorship_tag": "ABX9TyMVsEN+RJSp5eUcniHwvWQ3",
      "include_colab_link": true
    },
    "kernelspec": {
      "name": "python3",
      "display_name": "Python 3"
    },
    "language_info": {
      "name": "python"
    }
  },
  "cells": [
    {
      "cell_type": "markdown",
      "metadata": {
        "id": "view-in-github",
        "colab_type": "text"
      },
      "source": [
        "<a href=\"https://colab.research.google.com/github/waizwafiq/BBR-ContinAuth/blob/main/train_BBR.ipynb\" target=\"_parent\"><img src=\"https://colab.research.google.com/assets/colab-badge.svg\" alt=\"Open In Colab\"/></a>"
      ]
    },
    {
      "cell_type": "code",
      "metadata": {
        "id": "sVzZDlRFs6s8"
      },
      "source": [
        "import pandas as pd\n",
        "import numpy as np\n",
        "import sklearn.preprocessing as pproc\n",
        "import seaborn as sns"
      ],
      "execution_count": 98,
      "outputs": []
    },
    {
      "cell_type": "code",
      "metadata": {
        "id": "sISgwNDrs-z3"
      },
      "source": [
        "#from google.colab import files\n",
        "#uploaded = files.upload()"
      ],
      "execution_count": 99,
      "outputs": []
    },
    {
      "cell_type": "code",
      "metadata": {
        "id": "b4S88OQJtAbB"
      },
      "source": [
        "df = pd.read_csv('dataset_genuine.csv')"
      ],
      "execution_count": 100,
      "outputs": []
    },
    {
      "cell_type": "code",
      "metadata": {
        "colab": {
          "base_uri": "https://localhost:8080/",
          "height": 195
        },
        "id": "T-TEVve2tAVp",
        "outputId": "1cfab1a6-9e78-485e-f84a-92bf4cb2a2f7"
      },
      "source": [
        "#IRRELEVANT FEATURES TO REMOVE\n",
        "del df['t']\n",
        "del df['ttc']\n",
        "del df['paused_time']\n",
        "del df['x']\n",
        "del df['y']\n",
        "del df['s_euclid_c']\n",
        "del df['pauses']\n",
        "df.head(4)"
      ],
      "execution_count": 101,
      "outputs": [
        {
          "output_type": "execute_result",
          "data": {
            "text/html": [
              "<div>\n",
              "<style scoped>\n",
              "    .dataframe tbody tr th:only-of-type {\n",
              "        vertical-align: middle;\n",
              "    }\n",
              "\n",
              "    .dataframe tbody tr th {\n",
              "        vertical-align: top;\n",
              "    }\n",
              "\n",
              "    .dataframe thead th {\n",
              "        text-align: right;\n",
              "    }\n",
              "</style>\n",
              "<table border=\"1\" class=\"dataframe\">\n",
              "  <thead>\n",
              "    <tr style=\"text-align: right;\">\n",
              "      <th></th>\n",
              "      <th>paused_time_ratio</th>\n",
              "      <th>dx</th>\n",
              "      <th>dy</th>\n",
              "      <th>ds</th>\n",
              "      <th>theta</th>\n",
              "      <th>c</th>\n",
              "      <th>c_roc</th>\n",
              "      <th>v_x</th>\n",
              "      <th>v_y</th>\n",
              "      <th>v</th>\n",
              "      <th>a</th>\n",
              "      <th>j</th>\n",
              "      <th>w</th>\n",
              "      <th>straightness</th>\n",
              "      <th>jitter</th>\n",
              "    </tr>\n",
              "  </thead>\n",
              "  <tbody>\n",
              "    <tr>\n",
              "      <th>0</th>\n",
              "      <td>0.000000</td>\n",
              "      <td>0</td>\n",
              "      <td>0</td>\n",
              "      <td>0.000000</td>\n",
              "      <td>0.000000</td>\n",
              "      <td>0.000000</td>\n",
              "      <td>0.000000</td>\n",
              "      <td>0.000000</td>\n",
              "      <td>0.000000</td>\n",
              "      <td>0.000000</td>\n",
              "      <td>0.000000</td>\n",
              "      <td>0.000000e+00</td>\n",
              "      <td>0.000000</td>\n",
              "      <td>1.000000</td>\n",
              "      <td>0.000000</td>\n",
              "    </tr>\n",
              "    <tr>\n",
              "      <th>1</th>\n",
              "      <td>0.000000</td>\n",
              "      <td>0</td>\n",
              "      <td>-1</td>\n",
              "      <td>1.000000</td>\n",
              "      <td>1.570796</td>\n",
              "      <td>1.570796</td>\n",
              "      <td>1.570796</td>\n",
              "      <td>0.000000</td>\n",
              "      <td>-62.159676</td>\n",
              "      <td>62.159676</td>\n",
              "      <td>3863.825292</td>\n",
              "      <td>2.401741e+05</td>\n",
              "      <td>97.640190</td>\n",
              "      <td>1.000000</td>\n",
              "      <td>0.000000</td>\n",
              "    </tr>\n",
              "    <tr>\n",
              "      <th>2</th>\n",
              "      <td>0.952964</td>\n",
              "      <td>-19</td>\n",
              "      <td>-6</td>\n",
              "      <td>19.924859</td>\n",
              "      <td>0.305879</td>\n",
              "      <td>-0.063484</td>\n",
              "      <td>-0.082022</td>\n",
              "      <td>-1187.299643</td>\n",
              "      <td>-374.936729</td>\n",
              "      <td>1245.093568</td>\n",
              "      <td>73920.894131</td>\n",
              "      <td>4.377828e+06</td>\n",
              "      <td>-79.044002</td>\n",
              "      <td>0.967675</td>\n",
              "      <td>20.924859</td>\n",
              "    </tr>\n",
              "    <tr>\n",
              "      <th>3</th>\n",
              "      <td>0.910714</td>\n",
              "      <td>-31</td>\n",
              "      <td>-9</td>\n",
              "      <td>32.280025</td>\n",
              "      <td>0.282555</td>\n",
              "      <td>-0.000723</td>\n",
              "      <td>0.001944</td>\n",
              "      <td>-1964.051522</td>\n",
              "      <td>-570.208506</td>\n",
              "      <td>2045.149413</td>\n",
              "      <td>50688.738653</td>\n",
              "      <td>-1.471908e+06</td>\n",
              "      <td>-1.477722</td>\n",
              "      <td>0.986707</td>\n",
              "      <td>2.542664</td>\n",
              "    </tr>\n",
              "  </tbody>\n",
              "</table>\n",
              "</div>"
            ],
            "text/plain": [
              "   paused_time_ratio  dx  dy  ...          w  straightness     jitter\n",
              "0           0.000000   0   0  ...   0.000000      1.000000   0.000000\n",
              "1           0.000000   0  -1  ...  97.640190      1.000000   0.000000\n",
              "2           0.952964 -19  -6  ... -79.044002      0.967675  20.924859\n",
              "3           0.910714 -31  -9  ...  -1.477722      0.986707   2.542664\n",
              "\n",
              "[4 rows x 15 columns]"
            ]
          },
          "metadata": {
            "tags": []
          },
          "execution_count": 101
        }
      ]
    },
    {
      "cell_type": "code",
      "metadata": {
        "colab": {
          "base_uri": "https://localhost:8080/",
          "height": 163
        },
        "id": "Frq8xReVtE9r",
        "outputId": "8b008ea1-4bdd-45fe-f65d-ac29f2eb9e36"
      },
      "source": [
        "X = df\n",
        "X.head(3)"
      ],
      "execution_count": 102,
      "outputs": [
        {
          "output_type": "execute_result",
          "data": {
            "text/html": [
              "<div>\n",
              "<style scoped>\n",
              "    .dataframe tbody tr th:only-of-type {\n",
              "        vertical-align: middle;\n",
              "    }\n",
              "\n",
              "    .dataframe tbody tr th {\n",
              "        vertical-align: top;\n",
              "    }\n",
              "\n",
              "    .dataframe thead th {\n",
              "        text-align: right;\n",
              "    }\n",
              "</style>\n",
              "<table border=\"1\" class=\"dataframe\">\n",
              "  <thead>\n",
              "    <tr style=\"text-align: right;\">\n",
              "      <th></th>\n",
              "      <th>paused_time_ratio</th>\n",
              "      <th>dx</th>\n",
              "      <th>dy</th>\n",
              "      <th>ds</th>\n",
              "      <th>theta</th>\n",
              "      <th>c</th>\n",
              "      <th>c_roc</th>\n",
              "      <th>v_x</th>\n",
              "      <th>v_y</th>\n",
              "      <th>v</th>\n",
              "      <th>a</th>\n",
              "      <th>j</th>\n",
              "      <th>w</th>\n",
              "      <th>straightness</th>\n",
              "      <th>jitter</th>\n",
              "    </tr>\n",
              "  </thead>\n",
              "  <tbody>\n",
              "    <tr>\n",
              "      <th>0</th>\n",
              "      <td>0.000000</td>\n",
              "      <td>0</td>\n",
              "      <td>0</td>\n",
              "      <td>0.000000</td>\n",
              "      <td>0.000000</td>\n",
              "      <td>0.000000</td>\n",
              "      <td>0.000000</td>\n",
              "      <td>0.000000</td>\n",
              "      <td>0.000000</td>\n",
              "      <td>0.000000</td>\n",
              "      <td>0.000000</td>\n",
              "      <td>0.000000e+00</td>\n",
              "      <td>0.000000</td>\n",
              "      <td>1.000000</td>\n",
              "      <td>0.000000</td>\n",
              "    </tr>\n",
              "    <tr>\n",
              "      <th>1</th>\n",
              "      <td>0.000000</td>\n",
              "      <td>0</td>\n",
              "      <td>-1</td>\n",
              "      <td>1.000000</td>\n",
              "      <td>1.570796</td>\n",
              "      <td>1.570796</td>\n",
              "      <td>1.570796</td>\n",
              "      <td>0.000000</td>\n",
              "      <td>-62.159676</td>\n",
              "      <td>62.159676</td>\n",
              "      <td>3863.825292</td>\n",
              "      <td>2.401741e+05</td>\n",
              "      <td>97.640190</td>\n",
              "      <td>1.000000</td>\n",
              "      <td>0.000000</td>\n",
              "    </tr>\n",
              "    <tr>\n",
              "      <th>2</th>\n",
              "      <td>0.952964</td>\n",
              "      <td>-19</td>\n",
              "      <td>-6</td>\n",
              "      <td>19.924859</td>\n",
              "      <td>0.305879</td>\n",
              "      <td>-0.063484</td>\n",
              "      <td>-0.082022</td>\n",
              "      <td>-1187.299643</td>\n",
              "      <td>-374.936729</td>\n",
              "      <td>1245.093568</td>\n",
              "      <td>73920.894131</td>\n",
              "      <td>4.377828e+06</td>\n",
              "      <td>-79.044002</td>\n",
              "      <td>0.967675</td>\n",
              "      <td>20.924859</td>\n",
              "    </tr>\n",
              "  </tbody>\n",
              "</table>\n",
              "</div>"
            ],
            "text/plain": [
              "   paused_time_ratio  dx  dy  ...          w  straightness     jitter\n",
              "0           0.000000   0   0  ...   0.000000      1.000000   0.000000\n",
              "1           0.000000   0  -1  ...  97.640190      1.000000   0.000000\n",
              "2           0.952964 -19  -6  ... -79.044002      0.967675  20.924859\n",
              "\n",
              "[3 rows x 15 columns]"
            ]
          },
          "metadata": {
            "tags": []
          },
          "execution_count": 102
        }
      ]
    },
    {
      "cell_type": "markdown",
      "metadata": {
        "id": "EN0uRJbutHJv"
      },
      "source": [
        "## **DATA SCALING AND PCA**"
      ]
    },
    {
      "cell_type": "code",
      "metadata": {
        "id": "hwh4m3r0tLMc"
      },
      "source": [
        "scaler = pproc.StandardScaler()\n",
        "X_scaled = scaler.fit_transform(X)\n",
        "X_scaled_df = pd.DataFrame(X_scaled)"
      ],
      "execution_count": 103,
      "outputs": []
    },
    {
      "cell_type": "code",
      "metadata": {
        "colab": {
          "base_uri": "https://localhost:8080/",
          "height": 143
        },
        "id": "FYjdwc78tQvG",
        "outputId": "eb006459-f808-4686-e11c-d6d14cd0a7eb"
      },
      "source": [
        "from sklearn.decomposition import PCA\n",
        "pca = PCA(n_components=2)\n",
        "principalComponents = pca.fit_transform(X_scaled)\n",
        "X_PCA = pd.DataFrame(data = principalComponents, \n",
        "                           columns = ['PC1', 'PC2'])\n",
        "X_PCA.head(3)"
      ],
      "execution_count": 104,
      "outputs": [
        {
          "output_type": "execute_result",
          "data": {
            "text/html": [
              "<div>\n",
              "<style scoped>\n",
              "    .dataframe tbody tr th:only-of-type {\n",
              "        vertical-align: middle;\n",
              "    }\n",
              "\n",
              "    .dataframe tbody tr th {\n",
              "        vertical-align: top;\n",
              "    }\n",
              "\n",
              "    .dataframe thead th {\n",
              "        text-align: right;\n",
              "    }\n",
              "</style>\n",
              "<table border=\"1\" class=\"dataframe\">\n",
              "  <thead>\n",
              "    <tr style=\"text-align: right;\">\n",
              "      <th></th>\n",
              "      <th>PC1</th>\n",
              "      <th>PC2</th>\n",
              "    </tr>\n",
              "  </thead>\n",
              "  <tbody>\n",
              "    <tr>\n",
              "      <th>0</th>\n",
              "      <td>-0.134681</td>\n",
              "      <td>-0.803161</td>\n",
              "    </tr>\n",
              "    <tr>\n",
              "      <th>1</th>\n",
              "      <td>5.796805</td>\n",
              "      <td>0.514553</td>\n",
              "    </tr>\n",
              "    <tr>\n",
              "      <th>2</th>\n",
              "      <td>-2.641711</td>\n",
              "      <td>0.167132</td>\n",
              "    </tr>\n",
              "  </tbody>\n",
              "</table>\n",
              "</div>"
            ],
            "text/plain": [
              "        PC1       PC2\n",
              "0 -0.134681 -0.803161\n",
              "1  5.796805  0.514553\n",
              "2 -2.641711  0.167132"
            ]
          },
          "metadata": {
            "tags": []
          },
          "execution_count": 104
        }
      ]
    },
    {
      "cell_type": "code",
      "metadata": {
        "colab": {
          "base_uri": "https://localhost:8080/",
          "height": 392
        },
        "id": "npurH3HatSsB",
        "outputId": "fbc1e3a0-ed6c-453f-9d16-d605027af1ab"
      },
      "source": [
        "sns.pairplot(X_PCA)"
      ],
      "execution_count": 105,
      "outputs": [
        {
          "output_type": "execute_result",
          "data": {
            "text/plain": [
              "<seaborn.axisgrid.PairGrid at 0x7f4176c07950>"
            ]
          },
          "metadata": {
            "tags": []
          },
          "execution_count": 105
        },
        {
          "output_type": "display_data",
          "data": {
            "image/png": "[encoded data removed]",
            "text/plain": [
              "<Figure size 360x360 with 6 Axes>"
            ]
          },
          "metadata": {
            "tags": [],
            "needs_background": "light"
          }
        }
      ]
    },
    {
      "cell_type": "code",
      "metadata": {
        "colab": {
          "base_uri": "https://localhost:8080/"
        },
        "id": "z0zuRLXGywtP",
        "outputId": "420158e8-9c46-46c0-c9e9-14a28455101f"
      },
      "source": [
        "from sklearn.model_selection import train_test_split\n",
        "\n",
        "X_train, X_test, _, _ = train_test_split(X_PCA , X_PCA, shuffle = True, test_size=0.3, random_state=1)\n",
        "print(X_train.shape)\n",
        "print(X_test.shape)\n",
        "print(X_PCA.shape)"
      ],
      "execution_count": 106,
      "outputs": [
        {
          "output_type": "stream",
          "text": [
            "(3038, 2)\n",
            "(1303, 2)\n",
            "(4341, 2)\n"
          ],
          "name": "stdout"
        }
      ]
    },
    {
      "cell_type": "markdown",
      "metadata": {
        "id": "Fd2Ed-XUtbZw"
      },
      "source": [
        "## **ONE-CLASS CLASSIFICATION MODEL BUILDING**"
      ]
    },
    {
      "cell_type": "code",
      "metadata": {
        "id": "4WgUwZBBtfPS"
      },
      "source": [
        "from sklearn.svm import OneClassSVM\n",
        "from numpy import quantile, where, random\n",
        "import matplotlib.pyplot as plt"
      ],
      "execution_count": 107,
      "outputs": []
    },
    {
      "cell_type": "code",
      "metadata": {
        "colab": {
          "base_uri": "https://localhost:8080/",
          "height": 265
        },
        "id": "sFPOo0fntoC0",
        "outputId": "569e1997-bd4b-4b5e-a64f-6c24aec0ad55"
      },
      "source": [
        "plt.scatter(X_train.values[:,0], X_train.values[:,1], color='b')\n",
        "plt.scatter(X_test.values[:,0], X_test.values[:,1], color='g')\n",
        "plt.show()"
      ],
      "execution_count": 108,
      "outputs": [
        {
          "output_type": "display_data",
          "data": {
            "image/png": "[encoded data removed]",
            "text/plain": [
              "<Figure size 432x288 with 1 Axes>"
            ]
          },
          "metadata": {
            "tags": [],
            "needs_background": "light"
          }
        }
      ]
    },
    {
      "cell_type": "code",
      "metadata": {
        "id": "QoxlySDMtpud"
      },
      "source": [
        "svm = OneClassSVM(kernel='sigmoid', gamma=0.001, nu=0.04)"
      ],
      "execution_count": 109,
      "outputs": []
    },
    {
      "cell_type": "markdown",
      "metadata": {
        "id": "qydzFvoc0Rfq"
      },
      "source": [
        "training time"
      ]
    },
    {
      "cell_type": "code",
      "metadata": {
        "colab": {
          "base_uri": "https://localhost:8080/"
        },
        "id": "JMqtdjSWtrxJ",
        "outputId": "631b7876-bd25-436e-a839-515d7579c6d3"
      },
      "source": [
        "pred = svm.fit_predict(X_train)\n",
        "scores = svm.score_samples(X_train)\n",
        "print(pred, scores)"
      ],
      "execution_count": 110,
      "outputs": [
        {
          "output_type": "stream",
          "text": [
            "[ 1  1  1 ... -1  1  1] [-0.00077464 -0.0006732  -0.00063076 ... -0.00090526 -0.00066895\n",
            " -0.00060248]\n"
          ],
          "name": "stdout"
        }
      ]
    },
    {
      "cell_type": "code",
      "metadata": {
        "colab": {
          "base_uri": "https://localhost:8080/"
        },
        "id": "j6yiLfdOtruR",
        "outputId": "10839ec0-74f6-4ab0-de78-4f6c94f1d187"
      },
      "source": [
        "thresh = quantile(scores, 0.03)\n",
        "print(thresh)"
      ],
      "execution_count": 111,
      "outputs": [
        {
          "output_type": "stream",
          "text": [
            "-0.001043461438783716\n"
          ],
          "name": "stdout"
        }
      ]
    },
    {
      "cell_type": "code",
      "metadata": {
        "id": "oJH_d7UQtrsF"
      },
      "source": [
        "index = where(scores <= thresh)\n",
        "values = X_train.values[index] #get the data (anomalies) where scores <= thresh "
      ],
      "execution_count": 112,
      "outputs": []
    },
    {
      "cell_type": "code",
      "metadata": {
        "colab": {
          "base_uri": "https://localhost:8080/",
          "height": 265
        },
        "id": "8bBwqGimtrRf",
        "outputId": "fd04dc17-b236-46bf-e17f-2e06f4c1820d"
      },
      "source": [
        "plt.scatter(X_train.values[:,0], X_train.values[:,1], color='b')\n",
        "plt.scatter(values[:,0], values[:,1], color='r')\n",
        "plt.show()"
      ],
      "execution_count": 113,
      "outputs": [
        {
          "output_type": "display_data",
          "data": {
            "image/png": "[encoded data removed]",
            "text/plain": [
              "<Figure size 432x288 with 1 Axes>"
            ]
          },
          "metadata": {
            "tags": [],
            "needs_background": "light"
          }
        }
      ]
    },
    {
      "cell_type": "code",
      "metadata": {
        "colab": {
          "base_uri": "https://localhost:8080/"
        },
        "id": "ckaW0oX3v3cF",
        "outputId": "f5e96986-e019-4b08-9f29-87925995ec37"
      },
      "source": [
        "print(len(values), \"anomalies of\", len(X_train.values))"
      ],
      "execution_count": 114,
      "outputs": [
        {
          "output_type": "stream",
          "text": [
            "92 anomalies of 3038\n"
          ],
          "name": "stdout"
        }
      ]
    },
    {
      "cell_type": "markdown",
      "metadata": {
        "id": "lPDo3Oig0OzF"
      },
      "source": [
        "testing time"
      ]
    },
    {
      "cell_type": "code",
      "metadata": {
        "id": "Mn_sMBbUz03I"
      },
      "source": [
        "svm.predict(X_test)\n",
        "scores_test = svm.score_samples(X_test)"
      ],
      "execution_count": 115,
      "outputs": []
    },
    {
      "cell_type": "code",
      "metadata": {
        "id": "42pHC0oB0wU3"
      },
      "source": [
        "index = where(scores_test <= thresh)\n",
        "values_test = X_test.values[index]"
      ],
      "execution_count": 116,
      "outputs": []
    },
    {
      "cell_type": "code",
      "metadata": {
        "colab": {
          "base_uri": "https://localhost:8080/",
          "height": 265
        },
        "id": "ePpoIs340TDq",
        "outputId": "3cf95e9f-8e82-4146-d025-ba3640c1e1e4"
      },
      "source": [
        "plt.scatter(X_train.values[:,0], X_train.values[:,1], color='b')\n",
        "plt.scatter(X_test.values[:,0], X_test.values[:,1], color='g')\n",
        "plt.scatter(values[:,0], values[:,1], color='r')\n",
        "plt.scatter(values_test[:,0], values_test[:,1], color='y')\n",
        "plt.show()"
      ],
      "execution_count": 117,
      "outputs": [
        {
          "output_type": "display_data",
          "data": {
            "image/png": "[encoded data removed]",
            "text/plain": [
              "<Figure size 432x288 with 1 Axes>"
            ]
          },
          "metadata": {
            "tags": [],
            "needs_background": "light"
          }
        }
      ]
    },
    {
      "cell_type": "code",
      "metadata": {
        "colab": {
          "base_uri": "https://localhost:8080/"
        },
        "id": "vWWkdH0b2HHy",
        "outputId": "4077cd3a-bc9c-4870-edf3-d2902970f1b6"
      },
      "source": [
        "print(\"True probability = \",1-(len(values_test)+len(values)) / len(X_PCA))"
      ],
      "execution_count": 118,
      "outputs": [
        {
          "output_type": "stream",
          "text": [
            "True probability =  0.9684404515088689\n"
          ],
          "name": "stdout"
        }
      ]
    }
  ]
}