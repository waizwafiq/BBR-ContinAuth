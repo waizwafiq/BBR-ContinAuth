{
  "nbformat": 4,
  "nbformat_minor": 0,
  "metadata": {
    "colab": {
      "name": "train_BBR.ipynb",
      "provenance": [],
      "collapsed_sections": [],
      "toc_visible": true,
      "authorship_tag": "ABX9TyOVposL4fHnkqOvril2VfKS",
      "include_colab_link": true
    },
    "kernelspec": {
      "name": "python3",
      "display_name": "Python 3"
    },
    "language_info": {
      "name": "python"
    }
  },
  "cells": [
    {
      "cell_type": "markdown",
      "metadata": {
        "id": "view-in-github",
        "colab_type": "text"
      },
      "source": [
        "<a href=\"https://colab.research.google.com/github/waizwafiq/BBR-ContinAuth/blob/main/train_BBR.ipynb\" target=\"_parent\"><img src=\"https://colab.research.google.com/assets/colab-badge.svg\" alt=\"Open In Colab\"/></a>"
      ]
    },
    {
      "cell_type": "code",
      "metadata": {
        "id": "sVzZDlRFs6s8"
      },
      "source": [
        "import pandas as pd\n",
        "import numpy as np\n",
        "import sklearn.preprocessing as pproc\n",
        "import seaborn as sns"
      ],
      "execution_count": 85,
      "outputs": []
    },
    {
      "cell_type": "code",
      "metadata": {
        "id": "sISgwNDrs-z3"
      },
      "source": [
        "#from google.colab import files\n",
        "#uploaded = files.upload()"
      ],
      "execution_count": 86,
      "outputs": []
    },
    {
      "cell_type": "code",
      "metadata": {
        "id": "b4S88OQJtAbB"
      },
      "source": [
        "df = pd.read_csv('dataset_genuine.csv')"
      ],
      "execution_count": 87,
      "outputs": []
    },
    {
      "cell_type": "code",
      "metadata": {
        "colab": {
          "base_uri": "https://localhost:8080/",
          "height": 195
        },
        "id": "T-TEVve2tAVp",
        "outputId": "4a52a0be-3b7c-43e8-b5e4-17251a866d5b"
      },
      "source": [
        "#IRRELEVANT FEATURES TO REMOVE\n",
        "del df['t']\n",
        "del df['ttc']\n",
        "del df['paused_time']\n",
        "del df['x']\n",
        "del df['y']\n",
        "del df['s_euclid_c']\n",
        "del df['pauses']\n",
        "df.head(4)"
      ],
      "execution_count": 88,
      "outputs": [
        {
          "output_type": "execute_result",
          "data": {
            "text/html": [
              "<div>\n",
              "<style scoped>\n",
              "    .dataframe tbody tr th:only-of-type {\n",
              "        vertical-align: middle;\n",
              "    }\n",
              "\n",
              "    .dataframe tbody tr th {\n",
              "        vertical-align: top;\n",
              "    }\n",
              "\n",
              "    .dataframe thead th {\n",
              "        text-align: right;\n",
              "    }\n",
              "</style>\n",
              "<table border=\"1\" class=\"dataframe\">\n",
              "  <thead>\n",
              "    <tr style=\"text-align: right;\">\n",
              "      <th></th>\n",
              "      <th>paused_time_ratio</th>\n",
              "      <th>dx</th>\n",
              "      <th>dy</th>\n",
              "      <th>ds</th>\n",
              "      <th>theta</th>\n",
              "      <th>c</th>\n",
              "      <th>c_roc</th>\n",
              "      <th>v_x</th>\n",
              "      <th>v_y</th>\n",
              "      <th>v</th>\n",
              "      <th>a</th>\n",
              "      <th>j</th>\n",
              "      <th>w</th>\n",
              "      <th>straightness</th>\n",
              "      <th>jitter</th>\n",
              "    </tr>\n",
              "  </thead>\n",
              "  <tbody>\n",
              "    <tr>\n",
              "      <th>0</th>\n",
              "      <td>0.000000</td>\n",
              "      <td>0</td>\n",
              "      <td>0</td>\n",
              "      <td>0.000000</td>\n",
              "      <td>0.000000</td>\n",
              "      <td>0.000000</td>\n",
              "      <td>0.000000</td>\n",
              "      <td>0.000000</td>\n",
              "      <td>0.000000</td>\n",
              "      <td>0.000000</td>\n",
              "      <td>0.000000</td>\n",
              "      <td>0.000000e+00</td>\n",
              "      <td>0.000000</td>\n",
              "      <td>1.000000</td>\n",
              "      <td>0.000000</td>\n",
              "    </tr>\n",
              "    <tr>\n",
              "      <th>1</th>\n",
              "      <td>0.000000</td>\n",
              "      <td>0</td>\n",
              "      <td>-1</td>\n",
              "      <td>1.000000</td>\n",
              "      <td>1.570796</td>\n",
              "      <td>1.570796</td>\n",
              "      <td>1.570796</td>\n",
              "      <td>0.000000</td>\n",
              "      <td>-62.159676</td>\n",
              "      <td>62.159676</td>\n",
              "      <td>3863.825292</td>\n",
              "      <td>2.401741e+05</td>\n",
              "      <td>97.640190</td>\n",
              "      <td>1.000000</td>\n",
              "      <td>0.000000</td>\n",
              "    </tr>\n",
              "    <tr>\n",
              "      <th>2</th>\n",
              "      <td>0.952964</td>\n",
              "      <td>-19</td>\n",
              "      <td>-6</td>\n",
              "      <td>19.924859</td>\n",
              "      <td>0.305879</td>\n",
              "      <td>-0.063484</td>\n",
              "      <td>-0.082022</td>\n",
              "      <td>-1187.299643</td>\n",
              "      <td>-374.936729</td>\n",
              "      <td>1245.093568</td>\n",
              "      <td>73920.894131</td>\n",
              "      <td>4.377828e+06</td>\n",
              "      <td>-79.044002</td>\n",
              "      <td>0.967675</td>\n",
              "      <td>20.924859</td>\n",
              "    </tr>\n",
              "    <tr>\n",
              "      <th>3</th>\n",
              "      <td>0.910714</td>\n",
              "      <td>-31</td>\n",
              "      <td>-9</td>\n",
              "      <td>32.280025</td>\n",
              "      <td>0.282555</td>\n",
              "      <td>-0.000723</td>\n",
              "      <td>0.001944</td>\n",
              "      <td>-1964.051522</td>\n",
              "      <td>-570.208506</td>\n",
              "      <td>2045.149413</td>\n",
              "      <td>50688.738653</td>\n",
              "      <td>-1.471908e+06</td>\n",
              "      <td>-1.477722</td>\n",
              "      <td>0.986707</td>\n",
              "      <td>2.542664</td>\n",
              "    </tr>\n",
              "  </tbody>\n",
              "</table>\n",
              "</div>"
            ],
            "text/plain": [
              "   paused_time_ratio  dx  dy  ...          w  straightness     jitter\n",
              "0           0.000000   0   0  ...   0.000000      1.000000   0.000000\n",
              "1           0.000000   0  -1  ...  97.640190      1.000000   0.000000\n",
              "2           0.952964 -19  -6  ... -79.044002      0.967675  20.924859\n",
              "3           0.910714 -31  -9  ...  -1.477722      0.986707   2.542664\n",
              "\n",
              "[4 rows x 15 columns]"
            ]
          },
          "metadata": {
            "tags": []
          },
          "execution_count": 88
        }
      ]
    },
    {
      "cell_type": "code",
      "metadata": {
        "colab": {
          "base_uri": "https://localhost:8080/",
          "height": 163
        },
        "id": "Frq8xReVtE9r",
        "outputId": "9c44ff03-d2c9-48e7-f6e9-06dec81e0ef8"
      },
      "source": [
        "X = df\n",
        "X.head(3)"
      ],
      "execution_count": 89,
      "outputs": [
        {
          "output_type": "execute_result",
          "data": {
            "text/html": [
              "<div>\n",
              "<style scoped>\n",
              "    .dataframe tbody tr th:only-of-type {\n",
              "        vertical-align: middle;\n",
              "    }\n",
              "\n",
              "    .dataframe tbody tr th {\n",
              "        vertical-align: top;\n",
              "    }\n",
              "\n",
              "    .dataframe thead th {\n",
              "        text-align: right;\n",
              "    }\n",
              "</style>\n",
              "<table border=\"1\" class=\"dataframe\">\n",
              "  <thead>\n",
              "    <tr style=\"text-align: right;\">\n",
              "      <th></th>\n",
              "      <th>paused_time_ratio</th>\n",
              "      <th>dx</th>\n",
              "      <th>dy</th>\n",
              "      <th>ds</th>\n",
              "      <th>theta</th>\n",
              "      <th>c</th>\n",
              "      <th>c_roc</th>\n",
              "      <th>v_x</th>\n",
              "      <th>v_y</th>\n",
              "      <th>v</th>\n",
              "      <th>a</th>\n",
              "      <th>j</th>\n",
              "      <th>w</th>\n",
              "      <th>straightness</th>\n",
              "      <th>jitter</th>\n",
              "    </tr>\n",
              "  </thead>\n",
              "  <tbody>\n",
              "    <tr>\n",
              "      <th>0</th>\n",
              "      <td>0.000000</td>\n",
              "      <td>0</td>\n",
              "      <td>0</td>\n",
              "      <td>0.000000</td>\n",
              "      <td>0.000000</td>\n",
              "      <td>0.000000</td>\n",
              "      <td>0.000000</td>\n",
              "      <td>0.000000</td>\n",
              "      <td>0.000000</td>\n",
              "      <td>0.000000</td>\n",
              "      <td>0.000000</td>\n",
              "      <td>0.000000e+00</td>\n",
              "      <td>0.000000</td>\n",
              "      <td>1.000000</td>\n",
              "      <td>0.000000</td>\n",
              "    </tr>\n",
              "    <tr>\n",
              "      <th>1</th>\n",
              "      <td>0.000000</td>\n",
              "      <td>0</td>\n",
              "      <td>-1</td>\n",
              "      <td>1.000000</td>\n",
              "      <td>1.570796</td>\n",
              "      <td>1.570796</td>\n",
              "      <td>1.570796</td>\n",
              "      <td>0.000000</td>\n",
              "      <td>-62.159676</td>\n",
              "      <td>62.159676</td>\n",
              "      <td>3863.825292</td>\n",
              "      <td>2.401741e+05</td>\n",
              "      <td>97.640190</td>\n",
              "      <td>1.000000</td>\n",
              "      <td>0.000000</td>\n",
              "    </tr>\n",
              "    <tr>\n",
              "      <th>2</th>\n",
              "      <td>0.952964</td>\n",
              "      <td>-19</td>\n",
              "      <td>-6</td>\n",
              "      <td>19.924859</td>\n",
              "      <td>0.305879</td>\n",
              "      <td>-0.063484</td>\n",
              "      <td>-0.082022</td>\n",
              "      <td>-1187.299643</td>\n",
              "      <td>-374.936729</td>\n",
              "      <td>1245.093568</td>\n",
              "      <td>73920.894131</td>\n",
              "      <td>4.377828e+06</td>\n",
              "      <td>-79.044002</td>\n",
              "      <td>0.967675</td>\n",
              "      <td>20.924859</td>\n",
              "    </tr>\n",
              "  </tbody>\n",
              "</table>\n",
              "</div>"
            ],
            "text/plain": [
              "   paused_time_ratio  dx  dy  ...          w  straightness     jitter\n",
              "0           0.000000   0   0  ...   0.000000      1.000000   0.000000\n",
              "1           0.000000   0  -1  ...  97.640190      1.000000   0.000000\n",
              "2           0.952964 -19  -6  ... -79.044002      0.967675  20.924859\n",
              "\n",
              "[3 rows x 15 columns]"
            ]
          },
          "metadata": {
            "tags": []
          },
          "execution_count": 89
        }
      ]
    },
    {
      "cell_type": "markdown",
      "metadata": {
        "id": "EN0uRJbutHJv"
      },
      "source": [
        "## **DATA SCALING AND PCA**"
      ]
    },
    {
      "cell_type": "code",
      "metadata": {
        "id": "hwh4m3r0tLMc"
      },
      "source": [
        "scaler = pproc.MinMaxScaler()\n",
        "X_scaled = scaler.fit_transform(X)\n",
        "X_scaled_df = pd.DataFrame(X_scaled)"
      ],
      "execution_count": 90,
      "outputs": []
    },
    {
      "cell_type": "code",
      "metadata": {
        "colab": {
          "base_uri": "https://localhost:8080/",
          "height": 143
        },
        "id": "FYjdwc78tQvG",
        "outputId": "c677220b-0a31-4efc-883b-ed54bb94e1c2"
      },
      "source": [
        "from sklearn.decomposition import PCA\n",
        "pca = PCA(n_components=2)\n",
        "principalComponents = pca.fit_transform(X_scaled)\n",
        "X_PCA = pd.DataFrame(data = principalComponents, \n",
        "                           columns = ['PC1', 'PC2'])\n",
        "X_PCA.head(3)"
      ],
      "execution_count": 91,
      "outputs": [
        {
          "output_type": "execute_result",
          "data": {
            "text/html": [
              "<div>\n",
              "<style scoped>\n",
              "    .dataframe tbody tr th:only-of-type {\n",
              "        vertical-align: middle;\n",
              "    }\n",
              "\n",
              "    .dataframe tbody tr th {\n",
              "        vertical-align: top;\n",
              "    }\n",
              "\n",
              "    .dataframe thead th {\n",
              "        text-align: right;\n",
              "    }\n",
              "</style>\n",
              "<table border=\"1\" class=\"dataframe\">\n",
              "  <thead>\n",
              "    <tr style=\"text-align: right;\">\n",
              "      <th></th>\n",
              "      <th>PC1</th>\n",
              "      <th>PC2</th>\n",
              "    </tr>\n",
              "  </thead>\n",
              "  <tbody>\n",
              "    <tr>\n",
              "      <th>0</th>\n",
              "      <td>0.137316</td>\n",
              "      <td>1.216926</td>\n",
              "    </tr>\n",
              "    <tr>\n",
              "      <th>1</th>\n",
              "      <td>-0.431783</td>\n",
              "      <td>1.293017</td>\n",
              "    </tr>\n",
              "    <tr>\n",
              "      <th>2</th>\n",
              "      <td>0.040953</td>\n",
              "      <td>0.747585</td>\n",
              "    </tr>\n",
              "  </tbody>\n",
              "</table>\n",
              "</div>"
            ],
            "text/plain": [
              "        PC1       PC2\n",
              "0  0.137316  1.216926\n",
              "1 -0.431783  1.293017\n",
              "2  0.040953  0.747585"
            ]
          },
          "metadata": {
            "tags": []
          },
          "execution_count": 91
        }
      ]
    },
    {
      "cell_type": "code",
      "metadata": {
        "colab": {
          "base_uri": "https://localhost:8080/",
          "height": 392
        },
        "id": "npurH3HatSsB",
        "outputId": "7064e963-85f0-4b89-b5a8-1fb7900ec66c"
      },
      "source": [
        "sns.pairplot(X_PCA)"
      ],
      "execution_count": 92,
      "outputs": [
        {
          "output_type": "execute_result",
          "data": {
            "text/plain": [
              "<seaborn.axisgrid.PairGrid at 0x7f3c1ca3b4d0>"
            ]
          },
          "metadata": {
            "tags": []
          },
          "execution_count": 92
        },
        {
          "output_type": "display_data",
          "data": {
            "image/png": "[encoded data removed]",
            "text/plain": [
              "<Figure size 360x360 with 6 Axes>"
            ]
          },
          "metadata": {
            "tags": [],
            "needs_background": "light"
          }
        }
      ]
    },
    {
      "cell_type": "code",
      "metadata": {
        "colab": {
          "base_uri": "https://localhost:8080/"
        },
        "id": "z0zuRLXGywtP",
        "outputId": "f2c3df5a-fa06-464f-ea78-b0f73aa4bd89"
      },
      "source": [
        "from sklearn.model_selection import train_test_split\n",
        "\n",
        "X_train, X_test, _, _ = train_test_split(X_PCA , X_PCA, shuffle = True, test_size=0.3, random_state=1)\n",
        "print(X_train.shape)\n",
        "print(X_test.shape)\n",
        "print(X_PCA.shape)"
      ],
      "execution_count": 93,
      "outputs": [
        {
          "output_type": "stream",
          "text": [
            "(3038, 2)\n",
            "(1303, 2)\n",
            "(4341, 2)\n"
          ],
          "name": "stdout"
        }
      ]
    },
    {
      "cell_type": "markdown",
      "metadata": {
        "id": "Fd2Ed-XUtbZw"
      },
      "source": [
        "## **ONE-CLASS CLASSIFICATION MODEL BUILDING**"
      ]
    },
    {
      "cell_type": "code",
      "metadata": {
        "id": "4WgUwZBBtfPS"
      },
      "source": [
        "from sklearn.svm import OneClassSVM\n",
        "from numpy import quantile, where, random\n",
        "import matplotlib.pyplot as plt"
      ],
      "execution_count": 94,
      "outputs": []
    },
    {
      "cell_type": "code",
      "metadata": {
        "colab": {
          "base_uri": "https://localhost:8080/",
          "height": 265
        },
        "id": "sFPOo0fntoC0",
        "outputId": "04bedd49-01e5-48fe-891c-27680a9fb0eb"
      },
      "source": [
        "plt.scatter(X_train.values[:,0], X_train.values[:,1], color='b')\n",
        "plt.scatter(X_test.values[:,0], X_test.values[:,1], color='g')\n",
        "plt.show()"
      ],
      "execution_count": 95,
      "outputs": [
        {
          "output_type": "display_data",
          "data": {
            "image/png": "[encoded data removed]",
            "text/plain": [
              "<Figure size 432x288 with 1 Axes>"
            ]
          },
          "metadata": {
            "tags": [],
            "needs_background": "light"
          }
        }
      ]
    },
    {
      "cell_type": "code",
      "metadata": {
        "id": "QoxlySDMtpud"
      },
      "source": [
        "svm = OneClassSVM(kernel='rbf', gamma=0.001, nu=0.05)"
      ],
      "execution_count": 106,
      "outputs": []
    },
    {
      "cell_type": "markdown",
      "metadata": {
        "id": "qydzFvoc0Rfq"
      },
      "source": [
        "training time"
      ]
    },
    {
      "cell_type": "code",
      "metadata": {
        "colab": {
          "base_uri": "https://localhost:8080/"
        },
        "id": "JMqtdjSWtrxJ",
        "outputId": "a70c7594-2ee3-4a74-9bf9-17ee8362f860"
      },
      "source": [
        "pred = svm.fit_predict(X_train)\n",
        "scores = svm.score_samples(X_train)\n",
        "print(pred, scores)"
      ],
      "execution_count": 107,
      "outputs": [
        {
          "output_type": "stream",
          "text": [
            "[1 1 1 ... 1 1 1] [151.78455653 151.77995195 151.81512283 ... 151.78296174 151.81745339\n",
            " 151.81124428]\n"
          ],
          "name": "stdout"
        }
      ]
    },
    {
      "cell_type": "code",
      "metadata": {
        "colab": {
          "base_uri": "https://localhost:8080/"
        },
        "id": "j6yiLfdOtruR",
        "outputId": "54398d69-9e23-4353-9f29-cb89961829cb"
      },
      "source": [
        "thresh = quantile(scores, 0.03)\n",
        "print(thresh)"
      ],
      "execution_count": 108,
      "outputs": [
        {
          "output_type": "stream",
          "text": [
            "151.77587212600685\n"
          ],
          "name": "stdout"
        }
      ]
    },
    {
      "cell_type": "code",
      "metadata": {
        "id": "oJH_d7UQtrsF"
      },
      "source": [
        "index = where(scores <= thresh)\n",
        "values = X_train.values[index] #get the data (anomalies) where scores <= thresh "
      ],
      "execution_count": 109,
      "outputs": []
    },
    {
      "cell_type": "code",
      "metadata": {
        "colab": {
          "base_uri": "https://localhost:8080/",
          "height": 265
        },
        "id": "8bBwqGimtrRf",
        "outputId": "ab387255-c8ad-43f1-fce7-78be672fe151"
      },
      "source": [
        "plt.scatter(X_train.values[:,0], X_train.values[:,1], color='b')\n",
        "plt.scatter(values[:,0], values[:,1], color='r')\n",
        "plt.show()"
      ],
      "execution_count": 110,
      "outputs": [
        {
          "output_type": "display_data",
          "data": {
            "image/png": "[encoded data removed]",
            "text/plain": [
              "<Figure size 432x288 with 1 Axes>"
            ]
          },
          "metadata": {
            "tags": [],
            "needs_background": "light"
          }
        }
      ]
    },
    {
      "cell_type": "code",
      "metadata": {
        "colab": {
          "base_uri": "https://localhost:8080/"
        },
        "id": "ckaW0oX3v3cF",
        "outputId": "3c84e7ec-130e-46ac-9245-0ea4b2141779"
      },
      "source": [
        "print(len(values), \"anomalies of\", len(X_train.values))"
      ],
      "execution_count": 111,
      "outputs": [
        {
          "output_type": "stream",
          "text": [
            "92 anomalies of 3038\n"
          ],
          "name": "stdout"
        }
      ]
    },
    {
      "cell_type": "markdown",
      "metadata": {
        "id": "lPDo3Oig0OzF"
      },
      "source": [
        "testing time"
      ]
    },
    {
      "cell_type": "code",
      "metadata": {
        "id": "Mn_sMBbUz03I"
      },
      "source": [
        "svm.predict(X_test)\n",
        "scores_test = svm.score_samples(X_test)"
      ],
      "execution_count": 112,
      "outputs": []
    },
    {
      "cell_type": "code",
      "metadata": {
        "id": "42pHC0oB0wU3"
      },
      "source": [
        "index = where(scores_test <= thresh)\n",
        "values_test = X_test.values[index]"
      ],
      "execution_count": 113,
      "outputs": []
    },
    {
      "cell_type": "code",
      "metadata": {
        "colab": {
          "base_uri": "https://localhost:8080/",
          "height": 265
        },
        "id": "ePpoIs340TDq",
        "outputId": "daff3adb-fc3a-48a6-d8da-1029ac4f9802"
      },
      "source": [
        "plt.scatter(X_train.values[:,0], X_train.values[:,1], color='b')\n",
        "plt.scatter(X_test.values[:,0], X_test.values[:,1], color='g')\n",
        "plt.scatter(values[:,0], values[:,1], color='r')\n",
        "plt.scatter(values_test[:,0], values_test[:,1], color='y')\n",
        "plt.show()"
      ],
      "execution_count": 114,
      "outputs": [
        {
          "output_type": "display_data",
          "data": {
            "image/png": "[encoded data removed]",
            "text/plain": [
              "<Figure size 432x288 with 1 Axes>"
            ]
          },
          "metadata": {
            "tags": [],
            "needs_background": "light"
          }
        }
      ]
    },
    {
      "cell_type": "code",
      "metadata": {
        "colab": {
          "base_uri": "https://localhost:8080/"
        },
        "id": "vWWkdH0b2HHy",
        "outputId": "799d709f-5fe9-4451-a8b9-12545656f547"
      },
      "source": [
        "print(\"True probability = \",1-(len(values_test)+len(values)) / len(X_PCA))"
      ],
      "execution_count": 116,
      "outputs": [
        {
          "output_type": "stream",
          "text": [
            "True probability =  0.9682100898410504\n"
          ],
          "name": "stdout"
        }
      ]
    }
  ]
}